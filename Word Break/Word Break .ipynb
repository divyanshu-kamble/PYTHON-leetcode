{
 "cells": [
  {
   "cell_type": "code",
   "execution_count": 15,
   "id": "81db58e9",
   "metadata": {},
   "outputs": [
    {
     "data": {
      "text/plain": [
       "True"
      ]
     },
     "execution_count": 15,
     "metadata": {},
     "output_type": "execute_result"
    }
   ],
   "source": [
    "nu=\"leetcode\"\n",
    "dic=[\"leet\",\"code\"]\n",
    "\n",
    "\n",
    "def WordBreak(s,wordDict):\n",
    "    dp = [False] * (len(s) + 1)\n",
    "    dp[len(s)] = True\n",
    "    \n",
    "    for i in range(len(s)-1,-1,-1):\n",
    "        for w in wordDict:\n",
    "            if (i + len(w)) <= len(s) and s[i : i + len(w)] == w:\n",
    "                dp[i] = dp[i + len(w)]\n",
    "            if dp[i]:\n",
    "                break\n",
    "               \n",
    "    return dp[0]\n",
    "\n",
    "WordBreak(nu,dic)\n",
    "\n"
   ]
  },
  {
   "cell_type": "code",
   "execution_count": 40,
   "id": "a6cdb579",
   "metadata": {},
   "outputs": [
    {
     "name": "stdout",
     "output_type": "stream",
     "text": [
      "code\n",
      "e\n"
     ]
    }
   ],
   "source": [
    "n=\"neetcode\"\n",
    "dic=[\"neet\",\"code\"]\n",
    "\n",
    "i=7\n",
    "print(n[4:8])\n",
    "v= n[i:i+len(dic[0])]\n",
    "print(v)\n"
   ]
  }
 ],
 "metadata": {
  "kernelspec": {
   "display_name": "Python 3 (ipykernel)",
   "language": "python",
   "name": "python3"
  },
  "language_info": {
   "codemirror_mode": {
    "name": "ipython",
    "version": 3
   },
   "file_extension": ".py",
   "mimetype": "text/x-python",
   "name": "python",
   "nbconvert_exporter": "python",
   "pygments_lexer": "ipython3",
   "version": "3.10.4"
  }
 },
 "nbformat": 4,
 "nbformat_minor": 5
}
