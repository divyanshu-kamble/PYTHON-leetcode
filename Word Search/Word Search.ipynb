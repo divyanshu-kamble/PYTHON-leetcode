{
 "cells": [
  {
   "cell_type": "code",
   "execution_count": 59,
   "id": "1d637a19",
   "metadata": {},
   "outputs": [
    {
     "data": {
      "text/plain": [
       "True"
      ]
     },
     "execution_count": 59,
     "metadata": {},
     "output_type": "execute_result"
    }
   ],
   "source": [
    "\n",
    "class Solution():\n",
    "    def exist(self, board, word):\n",
    "        \n",
    "        Rows, Col = len(board), len(board[0])\n",
    "        path = set()\n",
    "        \n",
    "        \n",
    "        def dfs(r, c, i):\n",
    "            if i == len(word):\n",
    "                return True\n",
    "            \n",
    "            if (r<0 or c<0 or\n",
    "                r >= Rows or c >= Col or\n",
    "                word[i] != board[r][c] or\n",
    "                (r,c) in path):\n",
    "                return False\n",
    "            \n",
    "            path.add((r, c))\n",
    "            res = (dfs(r+1, c, i+1) or \n",
    "                  dfs(r-1, c, i+1) or\n",
    "                  dfs(r, c+1, i+1) or\n",
    "                  dfs(r, c-1, i+1))\n",
    "            path.remove((r, c))\n",
    "            return res\n",
    "            \n",
    "        for r in range(Rows):\n",
    "            for c in range(Col):\n",
    "                if dfs(r,c,0):\n",
    "                    return True\n",
    "        return False\n",
    "            \n",
    "\n",
    "board = [[\"A\", \"B\", \"C\", \"E\"],[\"S\", \"F\", \"C\", \"S\"],[\"A\", \"D\", \"E\", \"E\"]]\n",
    "w = \"ABCCED\"\n",
    "words =Solution()\n",
    "words.exist(board, w)"
   ]
  },
  {
   "cell_type": "code",
   "execution_count": null,
   "id": "10988137",
   "metadata": {},
   "outputs": [],
   "source": []
  }
 ],
 "metadata": {
  "kernelspec": {
   "display_name": "Python 3 (ipykernel)",
   "language": "python",
   "name": "python3"
  },
  "language_info": {
   "codemirror_mode": {
    "name": "ipython",
    "version": 3
   },
   "file_extension": ".py",
   "mimetype": "text/x-python",
   "name": "python",
   "nbconvert_exporter": "python",
   "pygments_lexer": "ipython3",
   "version": "3.10.4"
  }
 },
 "nbformat": 4,
 "nbformat_minor": 5
}
