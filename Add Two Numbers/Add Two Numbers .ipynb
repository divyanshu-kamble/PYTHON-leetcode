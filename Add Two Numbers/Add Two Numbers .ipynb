{
 "cells": [
  {
   "cell_type": "code",
   "execution_count": 14,
   "id": "abb242f6",
   "metadata": {},
   "outputs": [
    {
     "ename": "TypeError",
     "evalue": "solution.AddTwoNumbers() missing 1 required positional argument: 'l2'",
     "output_type": "error",
     "traceback": [
      "\u001b[1;31m---------------------------------------------------------------------------\u001b[0m",
      "\u001b[1;31mTypeError\u001b[0m                                 Traceback (most recent call last)",
      "Input \u001b[1;32mIn [14]\u001b[0m, in \u001b[0;36m<cell line: 26>\u001b[1;34m()\u001b[0m\n\u001b[0;32m     21\u001b[0m             v2 \u001b[38;5;241m=\u001b[39m l2\u001b[38;5;241m.\u001b[39mval\n\u001b[0;32m     23\u001b[0m             \u001b[38;5;28mprint\u001b[39m(v1,v2)\n\u001b[1;32m---> 26\u001b[0m \u001b[38;5;28mprint\u001b[39m(\u001b[43msolution\u001b[49m\u001b[38;5;241;43m.\u001b[39;49m\u001b[43mAddTwoNumbers\u001b[49m\u001b[43m(\u001b[49m\u001b[43ml1\u001b[49m\u001b[43m,\u001b[49m\u001b[43ml2\u001b[49m\u001b[43m)\u001b[49m)\n",
      "\u001b[1;31mTypeError\u001b[0m: solution.AddTwoNumbers() missing 1 required positional argument: 'l2'"
     ]
    }
   ],
   "source": [
    "l1=[2,3,4]\n",
    "l2=[4,6,7]\n",
    "\n",
    "\n",
    "\n",
    "class ListNode(object):\n",
    "    def __init__(self, x):\n",
    "        self.val = val\n",
    "        self.next = None\n",
    "\n",
    "\n",
    "class solution:\n",
    "    \n",
    "    def AddTwoNumbers(self, l1:ListNode ,l2:ListNode):\n",
    "    \n",
    "        dummy = ListNode()\n",
    "        cur=dummy\n",
    "        \n",
    "        carry = 0\n",
    "        while l1 or l2 :\n",
    "            v1 = l1.val if l1 else 0\n",
    "            v2 = l2.val if l2 else 0\n",
    "            \n",
    "            val = v1 + v2 + carry\n",
    "            carry = val//10\n",
    "            val = val%10\n",
    "            cur.next = ListNode(val)\n",
    "            \n",
    "            \n",
    "            cur = cur.next\n",
    "            l1 = l1.next if l1 else None\n",
    "            l2 = l2.next if l2 else None\n",
    "        \n",
    "        return dummy.next\n",
    "            \n",
    "           \n",
    "            \n",
    "\n",
    "\n"
   ]
  }
 ],
 "metadata": {
  "kernelspec": {
   "display_name": "Python 3 (ipykernel)",
   "language": "python",
   "name": "python3"
  },
  "language_info": {
   "codemirror_mode": {
    "name": "ipython",
    "version": 3
   },
   "file_extension": ".py",
   "mimetype": "text/x-python",
   "name": "python",
   "nbconvert_exporter": "python",
   "pygments_lexer": "ipython3",
   "version": "3.10.4"
  }
 },
 "nbformat": 4,
 "nbformat_minor": 5
}
