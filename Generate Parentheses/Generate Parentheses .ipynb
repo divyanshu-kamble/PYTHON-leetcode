{
 "cells": [
  {
   "cell_type": "code",
   "execution_count": 6,
   "id": "5c475e9b",
   "metadata": {},
   "outputs": [
    {
     "data": {
      "text/plain": [
       "['((()))', '(()())', '(())()', '()(())', '()()()']"
      ]
     },
     "execution_count": 6,
     "metadata": {},
     "output_type": "execute_result"
    }
   ],
   "source": [
    "class solution():\n",
    "    def generatingParenthesis(self, n):\n",
    "    \n",
    "        stack = []\n",
    "        res = []\n",
    "    \n",
    "        def backtrack(openN,closeN):\n",
    "            if openN == closeN == n:\n",
    "                res.append(\"\".join(stack))\n",
    "                return \n",
    "        \n",
    "            if openN < n:\n",
    "            \n",
    "                stack.append(\"(\")\n",
    "                backtrack(openN+1,closeN)\n",
    "                stack.pop()\n",
    "            \n",
    "            if closeN < openN:\n",
    "                stack.append(\")\")\n",
    "                backtrack(openN,closeN+1)\n",
    "                stack.pop() \n",
    "            \n",
    "        backtrack(0,0)\n",
    "        return res\n",
    "\n",
    "\n",
    "df= solution()\n",
    "df.generatingParenthesis(3)\n",
    "\n",
    "\n"
   ]
  },
  {
   "cell_type": "code",
   "execution_count": null,
   "id": "a13035d7",
   "metadata": {},
   "outputs": [],
   "source": []
  }
 ],
 "metadata": {
  "kernelspec": {
   "display_name": "Python 3 (ipykernel)",
   "language": "python",
   "name": "python3"
  },
  "language_info": {
   "codemirror_mode": {
    "name": "ipython",
    "version": 3
   },
   "file_extension": ".py",
   "mimetype": "text/x-python",
   "name": "python",
   "nbconvert_exporter": "python",
   "pygments_lexer": "ipython3",
   "version": "3.10.4"
  }
 },
 "nbformat": 4,
 "nbformat_minor": 5
}
