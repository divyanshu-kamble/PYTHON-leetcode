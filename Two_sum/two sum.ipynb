{
 "cells": [
  {
   "cell_type": "code",
   "execution_count": 13,
   "id": "31013801",
   "metadata": {},
   "outputs": [
    {
     "name": "stdout",
     "output_type": "stream",
     "text": [
      "2 7\n",
      "{2: 2}\n",
      "8 1\n",
      "{2: 2, 11: 11, 15: 15, 8: 8}\n",
      "4 5\n",
      "{2: 2, 11: 11, 15: 15, 8: 8, 4: 4}\n"
     ]
    }
   ],
   "source": [
    "nums=[2,7,11,15,8,1,4,5]\n",
    "\n",
    "target=9\n",
    "\n",
    "def twosum(num,target):\n",
    "    \n",
    "    required={}\n",
    "    \n",
    "    for n in nums:\n",
    "        \n",
    "        diff=target-n\n",
    "        \n",
    "        if diff in required:\n",
    "            print(diff,n)\n",
    "            print(required)\n",
    "        else:\n",
    "            required[n]=n\n",
    "            \n",
    "\n",
    "twosum(nums,target)\n"
   ]
  },
  {
   "cell_type": "code",
   "execution_count": null,
   "id": "d0a64429",
   "metadata": {},
   "outputs": [],
   "source": []
  }
 ],
 "metadata": {
  "kernelspec": {
   "display_name": "Python 3 (ipykernel)",
   "language": "python",
   "name": "python3"
  },
  "language_info": {
   "codemirror_mode": {
    "name": "ipython",
    "version": 3
   },
   "file_extension": ".py",
   "mimetype": "text/x-python",
   "name": "python",
   "nbconvert_exporter": "python",
   "pygments_lexer": "ipython3",
   "version": "3.10.4"
  }
 },
 "nbformat": 4,
 "nbformat_minor": 5
}
