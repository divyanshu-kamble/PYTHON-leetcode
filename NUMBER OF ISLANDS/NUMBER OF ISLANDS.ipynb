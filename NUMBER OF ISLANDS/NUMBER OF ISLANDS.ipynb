{
 "cells": [
  {
   "cell_type": "code",
   "execution_count": 16,
   "id": "8e2ebacf",
   "metadata": {},
   "outputs": [],
   "source": [
    "from collections import deque\n"
   ]
  },
  {
   "cell_type": "code",
   "execution_count": 12,
   "id": "c3d0df12",
   "metadata": {},
   "outputs": [
    {
     "name": "stdout",
     "output_type": "stream",
     "text": [
      "Enter the number of rows:4\n",
      "Enter the number of columns:5\n",
      "Enter the entries rowwise:\n",
      "1\n",
      "1\n",
      "1\n",
      "0\n",
      "2\n",
      "1\n",
      "1\n",
      "0\n",
      "0\n",
      "0\n",
      "0\n",
      "1\n",
      "1\n",
      "0\n",
      "0\n",
      "1\n",
      "1\n",
      "0\n",
      "0\n",
      "0\n",
      "1 1 1 0 2 \n",
      "1 1 0 0 0 \n",
      "0 1 1 0 0 \n",
      "1 1 0 0 0 \n"
     ]
    }
   ],
   "source": [
    "R = int(input(\"Enter the number of rows:\"))\n",
    "C = int(input(\"Enter the number of columns:\"))\n",
    "  \n",
    "# Initialize matrix\n",
    "matrix = []\n",
    "print(\"Enter the entries rowwise:\")\n",
    "  \n",
    "# For user input\n",
    "for i in range(R):          # A for loop for row entries\n",
    "    a =[]\n",
    "    for j in range(C):      # A for loop for column entries\n",
    "         a.append(int(input()))\n",
    "    matrix.append(a)\n",
    "  \n",
    "# For printing the matrix\n",
    "for i in range(R):\n",
    "    for j in range(C):\n",
    "        print(matrix[i][j], end = \" \")\n",
    "    print()"
   ]
  },
  {
   "cell_type": "code",
   "execution_count": 17,
   "id": "a0b5a7e9",
   "metadata": {},
   "outputs": [],
   "source": [
    "\n",
    "# grid = [[1,1,1,0,0],[1,1,0,0,0],[1,1,0,1,1],[0,0,0,1,0]]\n",
    "\n",
    "\n",
    "\n",
    "\n",
    "def numberofislands(grid):\n",
    "    if not grid:\n",
    "        return 0 \n",
    "    \n",
    "    rows, columns = len(grid), len(grid[0])\n",
    "    visit = set()\n",
    "    island = 0\n",
    "    \n",
    "    def bfs(r, c):\n",
    "        q = deque()\n",
    "        visit.add((r,c))\n",
    "        q.append((r, c))\n",
    "#   this will go on until q becomes empty and all the neighbouring island (1) are not found then it will go in the bottom for loop again to find it there is other clluster of island is found      \n",
    "        while q:\n",
    "            row, columns = q.popleft()\n",
    "            directions = [(1,0),(0,1),(-1,0),(0,-1)]\n",
    "            for dr, dc in directions:\n",
    "                r, c = row + dr , columns + dc\n",
    "                \n",
    "                if r in range(rows) and c in range(columns) and grid[r][c]==1 and (r,c) not in visit:\n",
    "                    visit.add((r,c))\n",
    "                    q.append((r,c))\n",
    "    \n",
    "    \n",
    "    \n",
    "    for r in range(rows):\n",
    "        for c in range(columns):\n",
    "            if grid[r][c] == 1 and (r,c) not in visit:\n",
    "                bfs(r, c)\n",
    "                island += 1\n",
    "                \n",
    "\n",
    "                \n",
    "numberofislands(matrix)"
   ]
  },
  {
   "cell_type": "code",
   "execution_count": null,
   "id": "47293660",
   "metadata": {},
   "outputs": [],
   "source": []
  }
 ],
 "metadata": {
  "kernelspec": {
   "display_name": "Python 3 (ipykernel)",
   "language": "python",
   "name": "python3"
  },
  "language_info": {
   "codemirror_mode": {
    "name": "ipython",
    "version": 3
   },
   "file_extension": ".py",
   "mimetype": "text/x-python",
   "name": "python",
   "nbconvert_exporter": "python",
   "pygments_lexer": "ipython3",
   "version": "3.10.4"
  }
 },
 "nbformat": 4,
 "nbformat_minor": 5
}
