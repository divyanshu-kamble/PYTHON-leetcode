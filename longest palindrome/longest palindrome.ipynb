{
 "cells": [
  {
   "cell_type": "code",
   "execution_count": 22,
   "id": "ff98fe35",
   "metadata": {},
   "outputs": [
    {
     "data": {
      "text/plain": [
       "'bab'"
      ]
     },
     "execution_count": 22,
     "metadata": {},
     "output_type": "execute_result"
    }
   ],
   "source": [
    "mystring=\"babcad\"\n",
    "\n",
    "\n",
    "def longestPalindrome(s):\n",
    "    \n",
    "    result= \"\"\n",
    "    count = 0\n",
    "    \n",
    "    for i in range(len(s)):\n",
    "        \n",
    "        l, r = i, i\n",
    "        \n",
    "        while l >= 0 and r < len(s) and s[l]==s[r]:\n",
    "            if (r-l+1) > count:\n",
    "                result = s[l:r+1]\n",
    "                count = r-l+1\n",
    "                \n",
    "            l-=1\n",
    "            r+=1\n",
    "     \n",
    "    \n",
    "            \n",
    "        l,r = i,i+1\n",
    "        \n",
    "        while l>=0 and r<len(s) and s[l]==s[r]:\n",
    "            if (r-l+1) > count:\n",
    "                result = s[l:r+1]\n",
    "                count = r-l+1\n",
    "                \n",
    "            l-=1\n",
    "            r+=1\n",
    "            \n",
    "    return result\n",
    "    \n",
    "\n",
    "longestPalindrome(mystring)"
   ]
  },
  {
   "cell_type": "code",
   "execution_count": null,
   "id": "4562d042",
   "metadata": {},
   "outputs": [],
   "source": []
  }
 ],
 "metadata": {
  "kernelspec": {
   "display_name": "Python 3 (ipykernel)",
   "language": "python",
   "name": "python3"
  },
  "language_info": {
   "codemirror_mode": {
    "name": "ipython",
    "version": 3
   },
   "file_extension": ".py",
   "mimetype": "text/x-python",
   "name": "python",
   "nbconvert_exporter": "python",
   "pygments_lexer": "ipython3",
   "version": "3.10.4"
  }
 },
 "nbformat": 4,
 "nbformat_minor": 5
}
