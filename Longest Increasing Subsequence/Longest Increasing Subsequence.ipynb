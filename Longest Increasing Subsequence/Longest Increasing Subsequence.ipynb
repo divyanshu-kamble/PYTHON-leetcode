{
 "cells": [
  {
   "cell_type": "code",
   "execution_count": 2,
   "id": "f8616bb5",
   "metadata": {},
   "outputs": [
    {
     "data": {
      "text/plain": [
       "6"
      ]
     },
     "execution_count": 2,
     "metadata": {},
     "output_type": "execute_result"
    }
   ],
   "source": [
    "# we need to find the longest series of numbers if there is any big number in bet. the subs list skip it ex.1,2,3,4,6,7\n",
    "n = [1,2,3,5,4,6,7]\n",
    "\n",
    "\n",
    "def Longsubs(nums):\n",
    "    \n",
    "    # use a list array where each value is 1 upto to len of nums\n",
    "    LIS = [1] * len(nums)\n",
    "    \n",
    "    # loop the nums backwards for checking if any number is greater than it\n",
    "    for i in range(len(nums)-1,-1,-1):\n",
    "        \n",
    "    # the second loop keps the track of the +1 value of the ith position number \n",
    "        for j in range(i+1,len(nums)):\n",
    "            \n",
    "            if nums[i] < nums[j]:\n",
    "                \n",
    "    # lis[i] at first lis all 1 it checks if the max value and updates in the lis array          \n",
    "                LIS[i] = max(LIS[i],1+LIS[j])\n",
    "                \n",
    "    return max(LIS)\n",
    "\n",
    "Longsubs(n)"
   ]
  }
 ],
 "metadata": {
  "kernelspec": {
   "display_name": "Python 3 (ipykernel)",
   "language": "python",
   "name": "python3"
  },
  "language_info": {
   "codemirror_mode": {
    "name": "ipython",
    "version": 3
   },
   "file_extension": ".py",
   "mimetype": "text/x-python",
   "name": "python",
   "nbconvert_exporter": "python",
   "pygments_lexer": "ipython3",
   "version": "3.10.4"
  }
 },
 "nbformat": 4,
 "nbformat_minor": 5
}
